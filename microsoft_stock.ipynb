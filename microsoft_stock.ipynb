{
  "cells": [
    {
      "cell_type": "markdown",
      "metadata": {
        "id": "gz4kgi8Y7ijg"
      },
      "source": [
        "Esse notebook utiliza dados históricos das ações da Microsoft ([Kaggle Dataset](https://www.kaggle.com/datasets/vijayvvenkitesh/microsoft-stock-time-series-analysis)) para prever preços usando Prophet e LSTM."
      ]
    },
    {
      "cell_type": "code",
      "execution_count": 1,
      "metadata": {
        "id": "oIESG_S43Wny"
      },
      "outputs": [],
      "source": [
        "import pandas as pd\n",
        "import numpy as np\n",
        "import matplotlib.pyplot as plt\n",
        "from sklearn.metrics import mean_absolute_error, mean_squared_error\n",
        "from sklearn.preprocessing import MinMaxScaler\n",
        "from prophet import Prophet\n",
        "from tensorflow.keras.models import Sequential\n",
        "from tensorflow.keras.layers import LSTM, Dense"
      ]
    },
    {
      "cell_type": "code",
      "execution_count": 2,
      "metadata": {
        "id": "Kr-aloQtzxur"
      },
      "outputs": [],
      "source": [
        "# Carregar os dados\n",
        "df = pd.read_csv('Microsoft_Stock.csv')\n",
        "df['Date'] = pd.to_datetime(df['Date'])\n",
        "df.set_index('Date', inplace=True)\n",
        "\n",
        "# Usar apenas a coluna de fechamento\n",
        "dados = df[['Close']]"
      ]
    },
    {
      "cell_type": "markdown",
      "metadata": {
        "id": "faxrj6MS3pjS"
      },
      "source": [
        "# 1. Modelo utilizando Prophet\n",
        "O Prophet é popular por sua fácil configuração e eficiência em séries temporais com tendência e sazonalidade, ajustando curvas suaves e prevendo o futuro com pouca necessidade de ajustes manuais."
      ]
    },
    {
      "cell_type": "code",
      "execution_count": 3,
      "metadata": {
        "id": "N7MbJXiS5FyX"
      },
      "outputs": [],
      "source": [
        "# Preparar os dados para o Prophet\n",
        "df_prophet = dados.reset_index()\n",
        "df_prophet.columns = ['ds', 'y']"
      ]
    },
    {
      "cell_type": "code",
      "execution_count": 4,
      "metadata": {
        "colab": {
          "base_uri": "https://localhost:8080/"
        },
        "id": "YxD2BE-95aPE",
        "outputId": "7e9871e4-2a80-4893-b90d-930bc6e7165d"
      },
      "outputs": [
        {
          "name": "stderr",
          "output_type": "stream",
          "text": [
            "DEBUG:cmdstanpy:input tempfile: /tmp/tmpxjubchp_/i7kh7fu4.json\n",
            "DEBUG:cmdstanpy:input tempfile: /tmp/tmpxjubchp_/le0hsdr5.json\n",
            "DEBUG:cmdstanpy:idx 0\n",
            "DEBUG:cmdstanpy:running CmdStan, num_threads: None\n",
            "DEBUG:cmdstanpy:CmdStan args: ['/usr/local/lib/python3.11/dist-packages/prophet/stan_model/prophet_model.bin', 'random', 'seed=68268', 'data', 'file=/tmp/tmpxjubchp_/i7kh7fu4.json', 'init=/tmp/tmpxjubchp_/le0hsdr5.json', 'output', 'file=/tmp/tmpxjubchp_/prophet_modele81q6v7v/prophet_model-20250324113159.csv', 'method=optimize', 'algorithm=lbfgs', 'iter=10000']\n",
            "11:31:59 - cmdstanpy - INFO - Chain [1] start processing\n",
            "INFO:cmdstanpy:Chain [1] start processing\n",
            "11:32:00 - cmdstanpy - INFO - Chain [1] done processing\n",
            "INFO:cmdstanpy:Chain [1] done processing\n"
          ]
        },
        {
          "data": {
            "text/plain": [
              "<prophet.forecaster.Prophet at 0x7f6e8bd72290>"
            ]
          },
          "execution_count": 4,
          "metadata": {},
          "output_type": "execute_result"
        }
      ],
      "source": [
        "# Criar e ajustar o modelo\n",
        "modelo_prophet = Prophet()\n",
        "modelo_prophet.fit(df_prophet)"
      ]
    },
    {
      "cell_type": "code",
      "execution_count": 5,
      "metadata": {
        "id": "aKHcVb255bRT"
      },
      "outputs": [],
      "source": [
        "# Criar previsões futuras\n",
        "futuro = modelo_prophet.make_future_dataframe(periods=365)\n",
        "previsao_prophet = modelo_prophet.predict(futuro)"
      ]
    },
    {
      "cell_type": "code",
      "execution_count": 6,
      "metadata": {
        "id": "a5ILOlAo5cgp"
      },
      "outputs": [],
      "source": [
        "# Pegar previsões para o período de teste\n",
        "previsoes_prophet = previsao_prophet[['ds', 'yhat']].set_index('ds')\n",
        "previsoes_prophet = previsoes_prophet.loc[dados.index]"
      ]
    },
    {
      "cell_type": "markdown",
      "metadata": {
        "id": "5s0tCYJA3sDF"
      },
      "source": [
        "# 2. Modelo utilizando LSTM\n",
        "As redes LSTM são muito boas para previsões de séries temporais porque elas conseguem lembrar informações de longo prazo. Isso é útil para ações, já que o preço de um dia pode ser influenciado por muitos dias anteriores."
      ]
    },
    {
      "cell_type": "code",
      "execution_count": 7,
      "metadata": {
        "id": "7qieLwG33Y7p"
      },
      "outputs": [],
      "source": [
        "# Normalizar os dados\n",
        "scaler = MinMaxScaler(feature_range=(0, 1))\n",
        "dados_normalizados = scaler.fit_transform(dados)"
      ]
    },
    {
      "cell_type": "code",
      "execution_count": 8,
      "metadata": {
        "id": "B0I1MmYq5gyp"
      },
      "outputs": [],
      "source": [
        "# Criar sequências\n",
        "def criar_sequencias(dados, passo):\n",
        "    X, y = [], []\n",
        "    for i in range(len(dados) - passo):\n",
        "        X.append(dados[i:(i + passo), 0])\n",
        "        y.append(dados[i + passo, 0])\n",
        "    return np.array(X), np.array(y)\n",
        "\n",
        "passo = 60\n",
        "X, y = criar_sequencias(dados_normalizados, passo)\n",
        "X = X.reshape((X.shape[0], X.shape[1], 1))"
      ]
    },
    {
      "cell_type": "code",
      "execution_count": 9,
      "metadata": {
        "colab": {
          "base_uri": "https://localhost:8080/"
        },
        "id": "SI4VHAt75hMG",
        "outputId": "57cf1bcc-cadc-41e9-ac60-1001704be10f"
      },
      "outputs": [
        {
          "name": "stderr",
          "output_type": "stream",
          "text": [
            "/usr/local/lib/python3.11/dist-packages/keras/src/layers/rnn/rnn.py:200: UserWarning: Do not pass an `input_shape`/`input_dim` argument to a layer. When using Sequential models, prefer using an `Input(shape)` object as the first layer in the model instead.\n",
            "  super().__init__(**kwargs)\n"
          ]
        }
      ],
      "source": [
        "# Criar modelo LSTM\n",
        "modelo_lstm = Sequential([\n",
        "    LSTM(50, return_sequences=True, input_shape=(X.shape[1], 1)),\n",
        "    LSTM(50),\n",
        "    Dense(1)\n",
        "])\n",
        "modelo_lstm.compile(optimizer='adam', loss='mean_squared_error')"
      ]
    },
    {
      "cell_type": "code",
      "execution_count": 10,
      "metadata": {
        "colab": {
          "base_uri": "https://localhost:8080/"
        },
        "id": "3FpQ99ul5jA8",
        "outputId": "015644fd-29d4-4996-c9a8-c6bf972b8aec"
      },
      "outputs": [
        {
          "name": "stdout",
          "output_type": "stream",
          "text": [
            "Epoch 1/20\n",
            "\u001b[1m46/46\u001b[0m \u001b[32m━━━━━━━━━━━━━━━━━━━━\u001b[0m\u001b[37m\u001b[0m \u001b[1m9s\u001b[0m 58ms/step - loss: 0.0616\n",
            "Epoch 2/20\n",
            "\u001b[1m46/46\u001b[0m \u001b[32m━━━━━━━━━━━━━━━━━━━━\u001b[0m\u001b[37m\u001b[0m \u001b[1m5s\u001b[0m 57ms/step - loss: 6.0400e-04\n",
            "Epoch 3/20\n",
            "\u001b[1m46/46\u001b[0m \u001b[32m━━━━━━━━━━━━━━━━━━━━\u001b[0m\u001b[37m\u001b[0m \u001b[1m5s\u001b[0m 61ms/step - loss: 4.5741e-04\n",
            "Epoch 4/20\n",
            "\u001b[1m46/46\u001b[0m \u001b[32m━━━━━━━━━━━━━━━━━━━━\u001b[0m\u001b[37m\u001b[0m \u001b[1m3s\u001b[0m 58ms/step - loss: 4.0987e-04\n",
            "Epoch 5/20\n",
            "\u001b[1m46/46\u001b[0m \u001b[32m━━━━━━━━━━━━━━━━━━━━\u001b[0m\u001b[37m\u001b[0m \u001b[1m5s\u001b[0m 63ms/step - loss: 4.5679e-04\n",
            "Epoch 6/20\n",
            "\u001b[1m46/46\u001b[0m \u001b[32m━━━━━━━━━━━━━━━━━━━━\u001b[0m\u001b[37m\u001b[0m \u001b[1m4s\u001b[0m 83ms/step - loss: 5.1742e-04\n",
            "Epoch 7/20\n",
            "\u001b[1m46/46\u001b[0m \u001b[32m━━━━━━━━━━━━━━━━━━━━\u001b[0m\u001b[37m\u001b[0m \u001b[1m4s\u001b[0m 57ms/step - loss: 4.6977e-04\n",
            "Epoch 8/20\n",
            "\u001b[1m46/46\u001b[0m \u001b[32m━━━━━━━━━━━━━━━━━━━━\u001b[0m\u001b[37m\u001b[0m \u001b[1m5s\u001b[0m 61ms/step - loss: 4.7935e-04\n",
            "Epoch 9/20\n",
            "\u001b[1m46/46\u001b[0m \u001b[32m━━━━━━━━━━━━━━━━━━━━\u001b[0m\u001b[37m\u001b[0m \u001b[1m5s\u001b[0m 55ms/step - loss: 4.6989e-04\n",
            "Epoch 10/20\n",
            "\u001b[1m46/46\u001b[0m \u001b[32m━━━━━━━━━━━━━━━━━━━━\u001b[0m\u001b[37m\u001b[0m \u001b[1m5s\u001b[0m 56ms/step - loss: 4.4012e-04\n",
            "Epoch 11/20\n",
            "\u001b[1m46/46\u001b[0m \u001b[32m━━━━━━━━━━━━━━━━━━━━\u001b[0m\u001b[37m\u001b[0m \u001b[1m6s\u001b[0m 68ms/step - loss: 5.1429e-04\n",
            "Epoch 12/20\n",
            "\u001b[1m46/46\u001b[0m \u001b[32m━━━━━━━━━━━━━━━━━━━━\u001b[0m\u001b[37m\u001b[0m \u001b[1m3s\u001b[0m 56ms/step - loss: 4.2394e-04\n",
            "Epoch 13/20\n",
            "\u001b[1m46/46\u001b[0m \u001b[32m━━━━━━━━━━━━━━━━━━━━\u001b[0m\u001b[37m\u001b[0m \u001b[1m5s\u001b[0m 58ms/step - loss: 4.1928e-04\n",
            "Epoch 14/20\n",
            "\u001b[1m46/46\u001b[0m \u001b[32m━━━━━━━━━━━━━━━━━━━━\u001b[0m\u001b[37m\u001b[0m \u001b[1m5s\u001b[0m 55ms/step - loss: 3.8784e-04\n",
            "Epoch 15/20\n",
            "\u001b[1m46/46\u001b[0m \u001b[32m━━━━━━━━━━━━━━━━━━━━\u001b[0m\u001b[37m\u001b[0m \u001b[1m3s\u001b[0m 56ms/step - loss: 3.5418e-04\n",
            "Epoch 16/20\n",
            "\u001b[1m46/46\u001b[0m \u001b[32m━━━━━━━━━━━━━━━━━━━━\u001b[0m\u001b[37m\u001b[0m \u001b[1m6s\u001b[0m 69ms/step - loss: 3.8043e-04\n",
            "Epoch 17/20\n",
            "\u001b[1m46/46\u001b[0m \u001b[32m━━━━━━━━━━━━━━━━━━━━\u001b[0m\u001b[37m\u001b[0m \u001b[1m5s\u001b[0m 56ms/step - loss: 3.1800e-04\n",
            "Epoch 18/20\n",
            "\u001b[1m46/46\u001b[0m \u001b[32m━━━━━━━━━━━━━━━━━━━━\u001b[0m\u001b[37m\u001b[0m \u001b[1m3s\u001b[0m 55ms/step - loss: 3.3968e-04\n",
            "Epoch 19/20\n",
            "\u001b[1m46/46\u001b[0m \u001b[32m━━━━━━━━━━━━━━━━━━━━\u001b[0m\u001b[37m\u001b[0m \u001b[1m3s\u001b[0m 56ms/step - loss: 3.2627e-04\n",
            "Epoch 20/20\n",
            "\u001b[1m46/46\u001b[0m \u001b[32m━━━━━━━━━━━━━━━━━━━━\u001b[0m\u001b[37m\u001b[0m \u001b[1m4s\u001b[0m 76ms/step - loss: 3.2361e-04\n"
          ]
        },
        {
          "data": {
            "text/plain": [
              "<keras.src.callbacks.history.History at 0x7f6e97c627d0>"
            ]
          },
          "execution_count": 10,
          "metadata": {},
          "output_type": "execute_result"
        }
      ],
      "source": [
        "# Treinar o modelo\n",
        "modelo_lstm.fit(X, y, epochs=20, batch_size=32, verbose=1)"
      ]
    },
    {
      "cell_type": "code",
      "execution_count": 11,
      "metadata": {
        "colab": {
          "base_uri": "https://localhost:8080/"
        },
        "id": "i3ZHUWU75kue",
        "outputId": "cf85a7bf-86c9-4834-9769-8dd3cadc659b"
      },
      "outputs": [
        {
          "name": "stdout",
          "output_type": "stream",
          "text": [
            "\u001b[1m46/46\u001b[0m \u001b[32m━━━━━━━━━━━━━━━━━━━━\u001b[0m\u001b[37m\u001b[0m \u001b[1m2s\u001b[0m 32ms/step\n"
          ]
        }
      ],
      "source": [
        "# Fazer previsões\n",
        "y_pred = modelo_lstm.predict(X)\n",
        "y_pred = scaler.inverse_transform(y_pred.reshape(-1, 1))\n",
        "\n",
        "dados_teste = dados.iloc[passo:]"
      ]
    },
    {
      "cell_type": "markdown",
      "metadata": {
        "id": "Wg6AO25r373k"
      },
      "source": [
        "# 3. Métricas de Avaliação e Comparação\n",
        "Para comparar os modelos, eu utilizei algumas métricas de erro:\n",
        "\n",
        "**Erro Médio Absoluto (MAE):** Mostra o erro médio em valores absolutos, ou seja, quanto a previsão errou em média.\n",
        "\n",
        "**Erro Quadrático Médio (MSE):** Parecido com o MAE, mas penaliza mais erros grandes, porque ajuda a identificar previsões muito ruins.\n",
        "\n",
        "**Raiz do Erro Quadrático Médio (RMSE):** É a raiz do MSE, então traz o erro para a mesma unidade dos dados originais.\n",
        "\n",
        "**Erro Percentual Absoluto Médio (MAPE):** Porque mostra o erro médio em porcentagem e facilita a comparação com diferentes escalas de valores.\n",
        "\n",
        "Referência: [Medium - Métricas de Regressão](https://medium.com/data-hackers/prevendo-n%C3%BAmeros-entendendo-m%C3%A9tricas-de-regress%C3%A3o-35545e011e70)"
      ]
    },
    {
      "cell_type": "code",
      "execution_count": 12,
      "metadata": {
        "id": "uVVqFpMx3giD"
      },
      "outputs": [],
      "source": [
        "def calcular_metricas(valores_reais, previsoes, modelo):\n",
        "    mae = mean_absolute_error(valores_reais, previsoes)\n",
        "    mse = mean_squared_error(valores_reais, previsoes)\n",
        "    rmse = np.sqrt(mse)\n",
        "    mape = np.mean(np.abs((valores_reais - previsoes) / valores_reais)) * 100\n",
        "    print(f'Métricas do modelo {modelo}:')\n",
        "    print(f'MAE: {mae}')\n",
        "    print(f'MSE: {mse}')\n",
        "    print(f'RMSE: {rmse}')\n",
        "    print(f'MAPE: {mape}%')"
      ]
    },
    {
      "cell_type": "code",
      "execution_count": 13,
      "metadata": {
        "colab": {
          "base_uri": "https://localhost:8080/"
        },
        "id": "HG8oABoX5qM5",
        "outputId": "62c4db9d-0243-4556-c6ed-7ade8d1c102c"
      },
      "outputs": [
        {
          "name": "stdout",
          "output_type": "stream",
          "text": [
            "Métricas do modelo Prophet:\n",
            "MAE: 3.6020354304622892\n",
            "MSE: 26.080060596513473\n",
            "RMSE: 5.106864066774587\n",
            "MAPE: 3.656815658568275%\n"
          ]
        }
      ],
      "source": [
        "# Garantir que os tamanhos sejam iguais\n",
        "previsoes_prophet = previsoes_prophet.loc[dados_teste.index]\n",
        "\n",
        "# Avaliar Prophet\n",
        "calcular_metricas(dados_teste['Close'], previsoes_prophet['yhat'], 'Prophet')"
      ]
    },
    {
      "cell_type": "code",
      "execution_count": 14,
      "metadata": {
        "colab": {
          "base_uri": "https://localhost:8080/"
        },
        "id": "5VpA1eUU5sFX",
        "outputId": "5df5edb8-6700-46ad-d312-383fab10ce92"
      },
      "outputs": [
        {
          "name": "stdout",
          "output_type": "stream",
          "text": [
            "Métricas do modelo LSTM:\n",
            "MAE: 2.356017622839246\n",
            "MSE: 14.57473762495084\n",
            "RMSE: 3.81768747083242\n",
            "MAPE: 2.038952567684087%\n"
          ]
        }
      ],
      "source": [
        "# Garantir que os tamanhos sejam iguais\n",
        "y_pred = y_pred[:len(dados_teste)].flatten()  # Ajustar tamanho e achatar array se necessário\n",
        "\n",
        "# Avaliar LSTM\n",
        "calcular_metricas(dados_teste['Close'].values, y_pred, 'LSTM')"
      ]
    },
    {
      "cell_type": "code",
      "execution_count": 15,
      "metadata": {
        "colab": {
          "base_uri": "https://localhost:8080/",
          "height": 545
        },
        "id": "gD5BWBNa5tmP",
        "outputId": "fef55ddf-be27-4d20-a0a3-832122414e99"
      },
      "outputs": [
        {
          "data": {
            "image/png": "[encoded data removed]",
            "text/plain": [
              "<Figure size 1200x600 with 1 Axes>"
            ]
          },
          "metadata": {},
          "output_type": "display_data"
        }
      ],
      "source": [
        "plt.figure(figsize=(12,6))\n",
        "plt.plot(dados_teste.index, dados_teste['Close'], label='Valor Real', color='blue')\n",
        "plt.plot(dados_teste.index, previsoes_prophet['yhat'], label='Prophet', color='red')\n",
        "plt.plot(dados_teste.index, y_pred[:len(dados_teste)], label='LSTM', color='green')\n",
        "plt.legend()\n",
        "plt.title('Comparação das Previsões')\n",
        "plt.show()"
      ]
    },
    {
      "cell_type": "markdown",
      "metadata": {
        "id": "9M7jH_X_8S3T"
      },
      "source": [
        "Com base nesses resultados, o modelo LSTM é a melhor escolha para previsão dessa série temporal, pois apresenta menor erro em todas as métricas."
      ]
    }
  ],
  "metadata": {
    "colab": {
      "provenance": []
    },
    "kernelspec": {
      "display_name": "Python 3",
      "name": "python3"
    },
    "language_info": {
      "name": "python"
    }
  },
  "nbformat": 4,
  "nbformat_minor": 0
}
